{
 "cells": [
  {
   "cell_type": "code",
   "execution_count": 4,
   "id": "8d9079df",
   "metadata": {},
   "outputs": [],
   "source": [
    "import cv2\n",
    "import time\n",
    "import mediapipe as mp"
   ]
  },
  {
   "cell_type": "code",
   "execution_count": 8,
   "id": "cff076bd",
   "metadata": {},
   "outputs": [],
   "source": [
    "cap=cv2.VideoCapture(0)\n",
    "cap.set(3,640)\n",
    "cap.set(4,480)\n",
    "\n",
    "mpHand =mp.solutions.hands\n",
    "hands=mpHand.Hands()\n",
    "mpDraw=mp.solutions.drawing_utils # elimizdeki isketleti çizmesi için\n",
    "\n",
    "tipIds=[4,8,12,16,20] # Parmaklarımızın uçlarının id'leri\n",
    "\n",
    "while True:\n",
    "    \n",
    "    success,img=cap.read()\n",
    "    imgRGB=cv2.cvtColor(img,cv2.COLOR_BGR2RGB) # mediapipe RGB kabul ediyor.\n",
    "    results=hands.process(imgRGB)\n",
    "    \n",
    "    lmList=[]\n",
    "    \n",
    "    if results.multi_hand_landmarks:\n",
    "        for handLms in results.multi_hand_landmarks:\n",
    "            mpDraw.draw_landmarks(img,handLms,mpHand.HAND_CONNECTIONS)\n",
    "            \n",
    "            for id, lm in enumerate(handLms.landmark):\n",
    "                \n",
    "                h,w,_=img.shape\n",
    "                \n",
    "                cx,cy =int(lm.x*w),int(lm.y*h) # Koordinatlar\n",
    "                lmList.append([id,cx,cy])  # Id ve koordinatlar\n",
    "                \n",
    "    if len(lmList) !=0:\n",
    "        fingers = []\n",
    "        if lmList[tipIds[0]-2][1] > lmList[tipIds[4]-3][1]: #Sağ el\n",
    "            # baş parmak\n",
    "            if lmList[tipIds[0]][1] > lmList[tipIds[0]-1][1]:\n",
    "                fingers.append(1)\n",
    "            else:\n",
    "                fingers.append(0)\n",
    "        else:\n",
    "            # baş parmak\n",
    "            if lmList[tipIds[0]][1] < lmList[tipIds[0]-1][1]:\n",
    "                fingers.append(1)\n",
    "            else:\n",
    "                fingers.append(0)\n",
    "        # Diğer 4 parmak \n",
    "        \n",
    "        for id in range (1,5):\n",
    "            \n",
    "            if lmList[tipIds[id]][2] < lmList[tipIds[id] - 2][2]:\n",
    "                fingers.append(1)\n",
    "            else: \n",
    "                fingers.append(0)\n",
    "                \n",
    "        total = fingers.count(1)\n",
    "        \n",
    "        cv2.putText(img, str(total),(30,125),cv2.FONT_HERSHEY_PLAIN,10,(255,0,0),8)\n",
    "                \n",
    "    cv2.imshow(\"img\",img)\n",
    "    if cv2.waitKey(1) & 0xFF == ord(\"q\"): break\n",
    "cap.release() #serbest bırak\n",
    "cv2.destroyAllWindows()"
   ]
  },
  {
   "attachments": {},
   "cell_type": "markdown",
   "id": "5e623e6b",
   "metadata": {},
   "source": [
    "  Bu algoritmamızda ilk olarak parmak uçlarımızın id'sini aldık.Daha sonra parmak ucumuzun id'sinin y koordinatı 2 altındaki eklemin id'sinin y koordinatından büyük mü diye baktık eğer öyleyse parmaklarımızı kapatmışız demektir.Bu kısma sadece baş parmak uymadı onuda bir altındaki eklemin sağındamı solunda mı olduğunu kontrol ederek çözdük.Eğer parmak kapalıysa 0 açık ise 1 olarak listeledik.Bu algoritma 2 el ile de çalışır.Bunu 17. id'ye sahip olan eklemin, 2 numaralı id'ye sahip olan ekleme göre x koordinatının büyük veya küçük olmasına göre belirledik."
   ]
  }
 ],
 "metadata": {
  "kernelspec": {
   "display_name": "Python 3 (ipykernel)",
   "language": "python",
   "name": "python3"
  },
  "language_info": {
   "codemirror_mode": {
    "name": "ipython",
    "version": 3
   },
   "file_extension": ".py",
   "mimetype": "text/x-python",
   "name": "python",
   "nbconvert_exporter": "python",
   "pygments_lexer": "ipython3",
   "version": "3.9.12"
  }
 },
 "nbformat": 4,
 "nbformat_minor": 5
}
